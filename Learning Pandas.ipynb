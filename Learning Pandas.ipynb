{
 "cells": [
  {
   "cell_type": "code",
   "execution_count": 2,
   "id": "satellite-record",
   "metadata": {},
   "outputs": [],
   "source": [
    "import pandas as pd\n"
   ]
  },
  {
   "cell_type": "code",
   "execution_count": 22,
   "id": "polished-gilbert",
   "metadata": {},
   "outputs": [
    {
     "name": "stdout",
     "output_type": "stream",
     "text": [
      "  Country_Region  Confirmed  Deaths  Recovered   Active\n",
      "0    Afghanistan      66275    2812    56295.0   7168.0\n",
      "1        Albania     132215    2445   128826.0    944.0\n",
      "2        Algeria     127107    3426    88497.0  35184.0\n",
      "3        Andorra      13569     127    13234.0    208.0\n",
      "4         Angola      32623     731    27087.0   4805.0\n",
      "Confirmed    167316260.0\n",
      "Deaths         3473247.0\n",
      "Recovered    104247872.0\n",
      "Active        27014615.0\n",
      "dtype: float64\n",
      "       index        count\n",
      "0  Confirmed  167316260.0\n",
      "1     Deaths    3473247.0\n",
      "2  Recovered  104247872.0\n",
      "3     Active   27014615.0\n"
     ]
    },
    {
     "data": {
      "text/html": [
       "<div>\n",
       "<style scoped>\n",
       "    .dataframe tbody tr th:only-of-type {\n",
       "        vertical-align: middle;\n",
       "    }\n",
       "\n",
       "    .dataframe tbody tr th {\n",
       "        vertical-align: top;\n",
       "    }\n",
       "\n",
       "    .dataframe thead th {\n",
       "        text-align: right;\n",
       "    }\n",
       "</style>\n",
       "<table border=\"1\" class=\"dataframe\">\n",
       "  <thead>\n",
       "    <tr style=\"text-align: right;\">\n",
       "      <th></th>\n",
       "      <th>condition</th>\n",
       "      <th>count</th>\n",
       "    </tr>\n",
       "  </thead>\n",
       "  <tbody>\n",
       "    <tr>\n",
       "      <th>0</th>\n",
       "      <td>Confirmed</td>\n",
       "      <td>167316260.0</td>\n",
       "    </tr>\n",
       "    <tr>\n",
       "      <th>1</th>\n",
       "      <td>Deaths</td>\n",
       "      <td>3473247.0</td>\n",
       "    </tr>\n",
       "    <tr>\n",
       "      <th>2</th>\n",
       "      <td>Recovered</td>\n",
       "      <td>104247872.0</td>\n",
       "    </tr>\n",
       "    <tr>\n",
       "      <th>3</th>\n",
       "      <td>Active</td>\n",
       "      <td>27014615.0</td>\n",
       "    </tr>\n",
       "  </tbody>\n",
       "</table>\n",
       "</div>"
      ],
      "text/plain": [
       "   condition        count\n",
       "0  Confirmed  167316260.0\n",
       "1     Deaths    3473247.0\n",
       "2  Recovered  104247872.0\n",
       "3     Active   27014615.0"
      ]
     },
     "execution_count": 22,
     "metadata": {},
     "output_type": "execute_result"
    }
   ],
   "source": [
    "daily_rp = pd.read_csv(\"data/daily_report.csv\")\n",
    "daily_rp = daily_rp[[\"Country_Region\",\"Confirmed\",\"Deaths\",\"Recovered\",\"Active\"]]\n",
    "print(daily_rp.head())\n",
    "rp_summary = daily_rp[[\"Confirmed\",\"Deaths\",\"Recovered\",\"Active\"]].sum()\n",
    "print(rp_summary)\n",
    "rp_summary = rp_summary.reset_index(name=\"count\")\n",
    "print(rp_summary)\n",
    "rp_summary = rp_summary.rename(columns={\"index\":\"condition\"})\n",
    "rp_summary"
   ]
  }
 ],
 "metadata": {
  "kernelspec": {
   "display_name": "Python 3",
   "language": "python",
   "name": "python3"
  },
  "language_info": {
   "codemirror_mode": {
    "name": "ipython",
    "version": 3
   },
   "file_extension": ".py",
   "mimetype": "text/x-python",
   "name": "python",
   "nbconvert_exporter": "python",
   "pygments_lexer": "ipython3",
   "version": "3.8.8"
  }
 },
 "nbformat": 4,
 "nbformat_minor": 5
}
