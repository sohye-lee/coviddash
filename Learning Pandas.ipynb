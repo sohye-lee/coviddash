{
 "cells": [
  {
   "cell_type": "code",
   "execution_count": 4,
   "id": "satellite-record",
   "metadata": {},
   "outputs": [],
   "source": [
    "import pandas as pd"
   ]
  },
  {
   "cell_type": "code",
   "execution_count": 7,
   "id": "polished-gilbert",
   "metadata": {},
   "outputs": [
    {
     "name": "stdout",
     "output_type": "stream",
     "text": [
      "          Country_Region  Confirmed  Deaths  Recovered   Active\n",
      "0            Afghanistan      66275    2812    56295.0   7168.0\n",
      "1                Albania     132215    2445   128826.0    944.0\n",
      "2                Algeria     127107    3426    88497.0  35184.0\n",
      "3                Andorra      13569     127    13234.0    208.0\n",
      "4                 Angola      32623     731    27087.0   4805.0\n",
      "...                  ...        ...     ...        ...      ...\n",
      "3978             Vietnam       5404      44     2794.0   2566.0\n",
      "3979  West Bank and Gaza     305777    3470   298502.0   3805.0\n",
      "3980               Yemen       6662    1310     3260.0   2092.0\n",
      "3981              Zambia      93279    1271    91200.0    808.0\n",
      "3982            Zimbabwe      38696    1586    36471.0    639.0\n",
      "\n",
      "[282 rows x 5 columns]\n"
     ]
    }
   ],
   "source": [
    "#READ FILE\n",
    "daily_rp = pd.read_csv(\"data/daily_report.csv\")\n",
    "\n",
    "#FILTER BY COLUMNS\n",
    "daily_rp = daily_rp[[\"Country_Region\",\"Confirmed\",\"Deaths\",\"Recovered\",\"Active\"]]\n",
    "\n",
    "#GET SUM OF EACH COLUMN\n",
    "rp_summary = daily_rp[[\"Confirmed\",\"Deaths\",\"Recovered\",\"Active\"]].sum()\n",
    "rp_summary = rp_summary.reset_index(name=\"count\")\n",
    "rp_summary = rp_summary.rename(columns={\"index\":\"condition\"})\n",
    "\n",
    "#GROUP BY COUNTRY\n",
    "daily_df = daily_rp.groupby(\"Country_Region\")\n",
    "print(daily_df.head())"
   ]
  },
  {
   "cell_type": "code",
   "execution_count": null,
   "id": "rocky-difference",
   "metadata": {},
   "outputs": [],
   "source": []
  }
 ],
 "metadata": {
  "kernelspec": {
   "display_name": "Python 3",
   "language": "python",
   "name": "python3"
  },
  "language_info": {
   "codemirror_mode": {
    "name": "ipython",
    "version": 3
   },
   "file_extension": ".py",
   "mimetype": "text/x-python",
   "name": "python",
   "nbconvert_exporter": "python",
   "pygments_lexer": "ipython3",
   "version": "3.8.8"
  }
 },
 "nbformat": 4,
 "nbformat_minor": 5
}
